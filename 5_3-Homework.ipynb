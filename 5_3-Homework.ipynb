{
 "cells": [
  {
   "cell_type": "markdown",
   "metadata": {},
   "source": [
    "2. Create a list of at least 5 elements of mixed data types\n",
    "    - replace a part of it with something else\n",
    "    - append or insert several more items to the list\n",
    "    - find and print the length of the list\n",
    "    - slice a sub-section of the 1st list, and save it to a different 2nd list\n",
    "    - print the 2nd list\n",
    "    - extend your original list with the 2nd list sliced above\n",
    "    - Create a new list called \"simList\" containing at least 5 elements of the same data type, either string, integer, float, or Boolean.\n",
    "    - sort \"simList\", and print the list\n",
    "    - copy the \"simList\" list to another 3rd list\n",
    "    - add the 2nd and 3rd lists together into a 4th list\n"
   ]
  },
  {
   "cell_type": "code",
   "execution_count": 6,
   "metadata": {},
   "outputs": [
    {
     "name": "stdout",
     "output_type": "stream",
     "text": [
      "how many elements in this list?... 6\n",
      "['Ryan', 'Gumbo', 133.3]\n",
      "[5, 4, 3, 2, 1]\n",
      "[31, 'Ryan', 'Gumbo', 133.3, ['Water', 'Tea', 'coffee'], 'banana', 'Ryan', 'Gumbo', 133.3, 'Ryan', 'Gumbo', 133.3, 5, 4, 3, 2, 1]\n"
     ]
    }
   ],
   "source": [
    "A = [30, 'Ryan', 133.3, ['Water','Tea', 'coffee']]\n",
    "\n",
    "A[0] = 31\n",
    "A.append('banana')\n",
    "A.insert(2, \"Gumbo\")\n",
    "print(\"how many elements in this list?...\",len(A))\n",
    "B = A[1:4]\n",
    "print(B)\n",
    "A.extend(B)\n",
    "simlist = [1,2,3,4,5]\n",
    "simlist.sort(reverse=True)\n",
    "print(simlist)\n",
    "simlist_New = simlist.copy\n",
    "List4 = A + B + simlist \n",
    "print(List4)\n"
   ]
  },
  {
   "cell_type": "markdown",
   "metadata": {},
   "source": [
    "Create a tuple of about 5 elements\n",
    "    - multiply your tuple by 3 and save it to a new 2nd tuple\n",
    "    - access and print the 12th element from the 2nd tuple\n",
    "    - sort the 2nd tuple and print it\n",
    "    - copy 4 specific elements from your 2nd tuple to a new 3nd tuple\n",
    "    - unpack the 3rd tuple into 4 variables and print these variables\n",
    "    - create a 4th tuple with single item 50 and print this tuple\n",
    "    - add the 2nd and 3rd tuple together into a 5th tuple and print the tuple"
   ]
  },
  {
   "cell_type": "code",
   "execution_count": 17,
   "metadata": {},
   "outputs": [
    {
     "name": "stdout",
     "output_type": "stream",
     "text": [
      "33333\n",
      "Sorted... [30, 30, 30, 32, 32, 32, 133.3, 133.3, 133.3, 33333, 33333, 33333]\n",
      "(133.3, 33333, 30, 32)\n",
      "IQ =  133.3 3333s = 33333 AGE = 30 random = 32\n",
      "(50,)\n",
      "(30, 32, 133.3, 33333, 30, 32, 133.3, 33333, 30, 32, 133.3, 33333, 133.3, 33333, 30, 32)\n"
     ]
    }
   ],
   "source": [
    "A = ( 30, 32, 133.3, 33333 )\n",
    "B = A * 3 \n",
    "print(B[11])\n",
    "print('Sorted...', sorted(B))\n",
    "C = B[2:6]\n",
    "print(C)\n",
    "(IQ, random, age, random2) = C\n",
    "print(\"IQ = \",IQ, '3333s =', random, 'AGE =', age, 'random =', random2 )\n",
    "tup = (50,)\n",
    "print(tup)\n",
    "TUP5 = B + C\n",
    "print(TUP5)"
   ]
  },
  {
   "cell_type": "markdown",
   "metadata": {},
   "source": [
    "Create a set of about 3 elements\n",
    "    - add a list of fruits to the above set and print the result\n",
    "    - add a car element to your set\n",
    "    - create a 2nd set with a few odd items\n",
    "    - save the union of 1st set and 2nd set to a 3rd set\n",
    "    - pop an element from the 2nd set, and print the remainder of the set\n",
    "    - clear the 1st set and print the result\n",
    "    - discard an element, and remove another element from the 3rd set\n",
    "    - print the remainder of the 3rd set\n"
   ]
  },
  {
   "cell_type": "code",
   "execution_count": 28,
   "metadata": {},
   "outputs": [
    {
     "name": "stdout",
     "output_type": "stream",
     "text": [
      "{'mango', 'apple', 23.0, 'orange', 'Ryan', 30}\n",
      "{'dog', 'water', 3.14}\n",
      "A set was cleared... set()\n",
      "{'water', 3.14, 'Chevy', 'mango', 'dog', 'apple', 'orange', 30}\n"
     ]
    }
   ],
   "source": [
    "A = {30, 'Ryan', 23.0}\n",
    "Fruits = 'orange', 'apple', 'mango'\n",
    "A.update(Fruits)\n",
    "print(A)\n",
    "A.add('Chevy')\n",
    "B = {'water', 'dog', 3.14}\n",
    "C = A.union(B)\n",
    "B.pop\n",
    "print(B)\n",
    "A.clear()\n",
    "print('A set was cleared...', A)\n",
    "C.discard(23.0)\n",
    "C.remove('Ryan')\n",
    "print(C)"
   ]
  },
  {
   "cell_type": "markdown",
   "metadata": {},
   "source": [
    "Create a dictionary with at least 5 values of different data types\n",
    "    - print out 1 value\n",
    "    - replace any one value in your dictionary with your name\n",
    "    - add your favorite color to the dictionary\n",
    "    - add a list, tuple or set to your dictionary\n",
    "    - print a list of the dictionary keys\n",
    "    - print a list of the dictionary values\n",
    "    - copy your 1st dictionary into a 2nd dictionary\n",
    "    - pop an item from the 2nd dictionary, and print the dictionary\n",
    "    - remove all the elements from the 2nd dictionary and print the result\n"
   ]
  },
  {
   "cell_type": "code",
   "execution_count": 38,
   "metadata": {},
   "outputs": [
    {
     "name": "stdout",
     "output_type": "stream",
     "text": [
      "First Truck =  Chevy\n",
      "Keys... dict_keys(['First Truck', 'Year', 'Automatic', 'Seating', 'Color', 'Favorite Color', 'Random'])\n",
      "Values ... dict_values(['Chevy', 1991, True, 'Ryan', ['Black', 'white'], 'Turquoise', [1, 99, 1]])\n",
      "{'First Truck': 'Chevy', 'Year': 1991, 'Automatic': True, 'Color': ['Black', 'white'], 'Favorite Color': 'Turquoise', 'Random': [1, 99, 1]}\n",
      "An empty Dictionary... {}\n"
     ]
    }
   ],
   "source": [
    "ADict = {\n",
    "    \"First Truck\": \"Chevy\",\n",
    "    \"Year\": 1991,\n",
    "    \"Automatic\": True,\n",
    "    \"Seating\": 2.5,\n",
    "    \"Color\": ['Black', \"white\"]\n",
    "}\n",
    "\n",
    "A = ADict.get(\"First Truck\")\n",
    "print(\"First Truck = \", A)\n",
    "ADict.update({\"Seating\": 'Ryan'})\n",
    "ADict.update({\"Favorite Color\": \"Turquoise\"})\n",
    "ADict.update({\"Random\": [1,99,1]})\n",
    "B = ADict.keys()\n",
    "print('Keys...', B)\n",
    "C = ADict.values()\n",
    "print('Values ...', C)\n",
    "\n",
    "BDict = ADict.copy()\n",
    "BDict.pop(\"Seating\")\n",
    "print(BDict)\n",
    "BDict.clear()\n",
    "print('An empty Dictionary...', BDict)"
   ]
  }
 ],
 "metadata": {
  "kernelspec": {
   "display_name": "Python 3.10.7 64-bit",
   "language": "python",
   "name": "python3"
  },
  "language_info": {
   "codemirror_mode": {
    "name": "ipython",
    "version": 3
   },
   "file_extension": ".py",
   "mimetype": "text/x-python",
   "name": "python",
   "nbconvert_exporter": "python",
   "pygments_lexer": "ipython3",
   "version": "3.10.7"
  },
  "orig_nbformat": 4,
  "vscode": {
   "interpreter": {
    "hash": "080da6c26f0a175bdb916ba142774bba8599a404fc80d6d1f14d481a78eeafad"
   }
  }
 },
 "nbformat": 4,
 "nbformat_minor": 2
}
