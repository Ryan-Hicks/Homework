{
 "cells": [
  {
   "cell_type": "markdown",
   "metadata": {},
   "source": [
    "What is an algorithm?\n",
    "    -a process or set of rules to be followed in calculations or other problem-solving operations.\n",
    "Why is Python considered to be a high-level language?\n",
    "    -The fact that it is not compliled but interpreted.\n",
    "Is Python a Natural or a Formal language? \n",
    "    -Formal \n",
    "Variable names may not start with certain characters - name two.\n",
    "    -Letters or an underscore\n",
    "What is a Semantic error?\n",
    "    -When the error is with the logic not a system or code error.\n",
    "What is the #1 rule of coding / debugging?\n",
    "    - save often and run often.\n",
    "list 5 Python reserved words.\n",
    "    - FALSE,None,elif,import,yield\n",
    "add and name, a web link for any Python coding article, in your markdown cell\n",
    "    -Python random range - https://pynative.com/python-random-randrange/"
   ]
  },
  {
   "cell_type": "code",
   "execution_count": 9,
   "metadata": {},
   "outputs": [
    {
     "name": "stdout",
     "output_type": "stream",
     "text": [
      "The length of a B ... 5\n",
      "The index of a B... .\n",
      "igDt nltc\n",
      "Learning Data Analytics and Python is great!\n",
      "Learning Data Analytics and Python is Awesome!\n",
      "Hi, my name is Ryan, I am 71 inches tall and 30 years old today.\n",
      "30.0\n"
     ]
    }
   ],
   "source": [
    "## Ryan Hicks\n",
    "## Favorite food : Gumbo\n",
    "## Dream Job : Making useful things with my hands.\n",
    "\n",
    "A = int(10) ##integer\n",
    "B = str('Bee..') ##string\n",
    "C = float(10.5) ##float\n",
    "D = [\"orange\",\"grapes\",\"mango\"] ##list\n",
    "E = True ##boolean\n",
    "\n",
    "print(\"The length of a B ...\", len(B))\n",
    "print (\"The index of a B...\", B[4])\n",
    "savvy = \"Learning Data Analytics and Python is Awesome!\"\n",
    "print (savvy[5:23])\n",
    "print (savvy.replace(\"Awesome\", \"great\"))\n",
    "print(savvy)\n",
    "name,age,length = \"Ryan\", \"30\", \"71\"\n",
    "minibio = \"Hi, my name is \" + name + \", I am \" + length + \" inches tall and \" + age + \" years old today.\"\n",
    "print(minibio)\n",
    "age = float(30)\n",
    "print (age)"
   ]
  }
 ],
 "metadata": {
  "kernelspec": {
   "display_name": "Python 3.10.7 64-bit",
   "language": "python",
   "name": "python3"
  },
  "language_info": {
   "codemirror_mode": {
    "name": "ipython",
    "version": 3
   },
   "file_extension": ".py",
   "mimetype": "text/x-python",
   "name": "python",
   "nbconvert_exporter": "python",
   "pygments_lexer": "ipython3",
   "version": "3.10.7"
  },
  "orig_nbformat": 4,
  "vscode": {
   "interpreter": {
    "hash": "080da6c26f0a175bdb916ba142774bba8599a404fc80d6d1f14d481a78eeafad"
   }
  }
 },
 "nbformat": 4,
 "nbformat_minor": 2
}
